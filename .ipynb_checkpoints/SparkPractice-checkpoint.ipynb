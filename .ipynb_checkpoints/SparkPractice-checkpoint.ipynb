{
 "cells": [
  {
   "cell_type": "code",
   "execution_count": 39,
   "id": "a89cdbc9",
   "metadata": {},
   "outputs": [],
   "source": [
    "import findspark\n",
    "findspark.init()"
   ]
  },
  {
   "cell_type": "code",
   "execution_count": 40,
   "id": "592aa025",
   "metadata": {},
   "outputs": [],
   "source": [
    "from pyspark.sql import SparkSession\n",
    "from pyspark.sql.types import StructType,StructField, StringType, IntegerType\n",
    "from pyspark.sql.functions import col"
   ]
  },
  {
   "cell_type": "code",
   "execution_count": 41,
   "id": "17311c5c",
   "metadata": {},
   "outputs": [],
   "source": [
    "spark = SparkSession.builder.appName('dataframe').master('local').getOrCreate()"
   ]
  },
  {
   "cell_type": "code",
   "execution_count": 42,
   "id": "549b6fa8",
   "metadata": {},
   "outputs": [
    {
     "data": {
      "text/html": [
       "\n",
       "            <div>\n",
       "                <p><b>SparkSession - in-memory</b></p>\n",
       "                \n",
       "        <div>\n",
       "            <p><b>SparkContext</b></p>\n",
       "\n",
       "            <p><a href=\"http://DESKTOP-DOT595I:4040\">Spark UI</a></p>\n",
       "\n",
       "            <dl>\n",
       "              <dt>Version</dt>\n",
       "                <dd><code>v3.0.3</code></dd>\n",
       "              <dt>Master</dt>\n",
       "                <dd><code>local</code></dd>\n",
       "              <dt>AppName</dt>\n",
       "                <dd><code>dataframe</code></dd>\n",
       "            </dl>\n",
       "        </div>\n",
       "        \n",
       "            </div>\n",
       "        "
      ],
      "text/plain": [
       "<pyspark.sql.session.SparkSession at 0x199d67714b0>"
      ]
     },
     "execution_count": 42,
     "metadata": {},
     "output_type": "execute_result"
    }
   ],
   "source": [
    "spark"
   ]
  },
  {
   "cell_type": "code",
   "execution_count": 52,
   "id": "520a35c5",
   "metadata": {},
   "outputs": [],
   "source": [
    "dfcsv = spark.read\\\n",
    "            .option(\"header\",True)\\\n",
    "            .option(\"inferSchema\",True)\\\n",
    "            .csv(\"C:/Users/W10/Desktop/sparkTxt/annual-csv.csv\")"
   ]
  },
  {
   "cell_type": "code",
   "execution_count": 53,
   "id": "3d377aae",
   "metadata": {},
   "outputs": [
    {
     "data": {
      "text/plain": [
       "pyspark.sql.dataframe.DataFrame"
      ]
     },
     "execution_count": 53,
     "metadata": {},
     "output_type": "execute_result"
    }
   ],
   "source": [
    "type(dfcsv)"
   ]
  },
  {
   "cell_type": "code",
   "execution_count": 54,
   "id": "d8aa774a",
   "metadata": {
    "scrolled": true
   },
   "outputs": [
    {
     "name": "stdout",
     "output_type": "stream",
     "text": [
      "root\n",
      " |-- Year: integer (nullable = true)\n",
      " |-- Industry_aggregation_NZSIOC: string (nullable = true)\n",
      " |-- Industry_code_NZSIOC: string (nullable = true)\n",
      " |-- Industry_name_NZSIOC: string (nullable = true)\n",
      " |-- Units: string (nullable = true)\n",
      " |-- Variable_code: string (nullable = true)\n",
      " |-- Variable_name: string (nullable = true)\n",
      " |-- Variable_category: string (nullable = true)\n",
      " |-- Value: string (nullable = true)\n",
      " |-- Industry_code_ANZSIC06: string (nullable = true)\n",
      "\n"
     ]
    }
   ],
   "source": [
    "dfcsv.printSchema()"
   ]
  },
  {
   "cell_type": "code",
   "execution_count": 58,
   "id": "19c62349",
   "metadata": {},
   "outputs": [
    {
     "name": "stdout",
     "output_type": "stream",
     "text": [
      "+----+\n",
      "|Year|\n",
      "+----+\n",
      "|2018|\n",
      "|2015|\n",
      "|2013|\n",
      "|2014|\n",
      "|2019|\n",
      "|2020|\n",
      "|2016|\n",
      "|2017|\n",
      "+----+\n",
      "\n"
     ]
    }
   ],
   "source": [
    "dfcsv.select(col(\"Year\")).distinct().show()"
   ]
  },
  {
   "cell_type": "code",
   "execution_count": 59,
   "id": "e743304e",
   "metadata": {},
   "outputs": [
    {
     "name": "stdout",
     "output_type": "stream",
     "text": [
      "+---------+--------+-------+-----+\n",
      "|firstname|lastname|country|state|\n",
      "+---------+--------+-------+-----+\n",
      "|James    |Smith   |USA    |CA   |\n",
      "|Michael  |Rose    |USA    |NY   |\n",
      "|Robert   |Williams|USA    |CA   |\n",
      "|Maria    |Jones   |USA    |FL   |\n",
      "+---------+--------+-------+-----+\n",
      "\n"
     ]
    }
   ],
   "source": [
    "spark = SparkSession.builder.appName('SparkByExamples.com').getOrCreate()\n",
    "data = [(\"James\",\"Smith\",\"USA\",\"CA\"),\n",
    "    (\"Michael\",\"Rose\",\"USA\",\"NY\"),\n",
    "    (\"Robert\",\"Williams\",\"USA\",\"CA\"),\n",
    "    (\"Maria\",\"Jones\",\"USA\",\"FL\")\n",
    "  ]\n",
    "columns = [\"firstname\",\"lastname\",\"country\",\"state\"]\n",
    "df = spark.createDataFrame(data = data, schema = columns)\n",
    "df.show(truncate=False)"
   ]
  },
  {
   "cell_type": "code",
   "execution_count": 48,
   "id": "7173f798",
   "metadata": {},
   "outputs": [
    {
     "name": "stdout",
     "output_type": "stream",
     "text": [
      "+---------+--------+-------+-----+\n",
      "|firstname|lastname|country|state|\n",
      "+---------+--------+-------+-----+\n",
      "|    James|   Smith|    USA|   CA|\n",
      "|  Michael|    Rose|    USA|   NY|\n",
      "|   Robert|Williams|    USA|   CA|\n",
      "|    Maria|   Jones|    USA|   FL|\n",
      "+---------+--------+-------+-----+\n",
      "\n"
     ]
    }
   ],
   "source": [
    "df.show()"
   ]
  },
  {
   "cell_type": "code",
   "execution_count": 49,
   "id": "c33c4e1f",
   "metadata": {},
   "outputs": [
    {
     "name": "stdout",
     "output_type": "stream",
     "text": [
      "+---------+--------+\n",
      "|firstname|lastname|\n",
      "+---------+--------+\n",
      "|    James|   Smith|\n",
      "|  Michael|    Rose|\n",
      "|   Robert|Williams|\n",
      "|    Maria|   Jones|\n",
      "+---------+--------+\n",
      "\n"
     ]
    }
   ],
   "source": [
    "\n",
    "df.select(col(\"firstname\"),col(\"lastname\")).show()\n"
   ]
  },
  {
   "cell_type": "code",
   "execution_count": 65,
   "id": "420aaa78",
   "metadata": {},
   "outputs": [
    {
     "name": "stdout",
     "output_type": "stream",
     "text": [
      "+---------+--------+-------+-----+\n",
      "|firstname|lastname|country|state|\n",
      "+---------+--------+-------+-----+\n",
      "|    James|   Smith|    USA|   CA|\n",
      "|  Michael|    Rose|    USA|   NY|\n",
      "|   Robert|Williams|    USA|   CA|\n",
      "|    Maria|   Jones|    USA|   FL|\n",
      "+---------+--------+-------+-----+\n",
      "\n"
     ]
    }
   ],
   "source": [
    "df.select(*columns).show()"
   ]
  },
  {
   "cell_type": "code",
   "execution_count": 69,
   "id": "802b6bf5",
   "metadata": {},
   "outputs": [
    {
     "name": "stdout",
     "output_type": "stream",
     "text": [
      "+----+---------------------------+--------------------+\n",
      "|Year|Industry_aggregation_NZSIOC|Industry_code_NZSIOC|\n",
      "+----+---------------------------+--------------------+\n",
      "|2020|                    Level 1|               99999|\n",
      "|2020|                    Level 1|               99999|\n",
      "|2020|                    Level 1|               99999|\n",
      "|2020|                    Level 1|               99999|\n",
      "|2020|                    Level 1|               99999|\n",
      "|2020|                    Level 1|               99999|\n",
      "|2020|                    Level 1|               99999|\n",
      "|2020|                    Level 1|               99999|\n",
      "|2020|                    Level 1|               99999|\n",
      "|2020|                    Level 1|               99999|\n",
      "|2020|                    Level 1|               99999|\n",
      "|2020|                    Level 1|               99999|\n",
      "|2020|                    Level 1|               99999|\n",
      "|2020|                    Level 1|               99999|\n",
      "|2020|                    Level 1|               99999|\n",
      "|2020|                    Level 1|               99999|\n",
      "|2020|                    Level 1|               99999|\n",
      "|2020|                    Level 1|               99999|\n",
      "|2020|                    Level 1|               99999|\n",
      "|2020|                    Level 1|               99999|\n",
      "+----+---------------------------+--------------------+\n",
      "only showing top 20 rows\n",
      "\n"
     ]
    }
   ],
   "source": [
    "dfcsv.select(dfcsv.columns[:3]).show()"
   ]
  },
  {
   "cell_type": "code",
   "execution_count": 78,
   "id": "ec26db80",
   "metadata": {},
   "outputs": [
    {
     "name": "stdout",
     "output_type": "stream",
     "text": [
      "+--------------------------------------------------+\n",
      "|CASE WHEN (Year = 2020) THEN IN 2020 ELSE Year END|\n",
      "+--------------------------------------------------+\n",
      "|                                              2016|\n",
      "|                                              2019|\n",
      "|                                              2017|\n",
      "|                                              2014|\n",
      "|                                              2013|\n",
      "|                                              2018|\n",
      "|                                           IN 2020|\n",
      "|                                              2015|\n",
      "+--------------------------------------------------+\n",
      "\n"
     ]
    }
   ],
   "source": [
    "from pyspark.sql.functions import *\n",
    "dfcsv.select(expr(\"CASE WHEN Year = 2020 THEN 'IN 2020' ELSE Year END\")).distinct().show()"
   ]
  },
  {
   "cell_type": "code",
   "execution_count": 84,
   "id": "e18ba0a1",
   "metadata": {},
   "outputs": [
    {
     "name": "stdout",
     "output_type": "stream",
     "text": [
      "+----+-------------------------------------------------------------------------+\n",
      "|Year|CASE WHEN (Year = 2020) THEN yes 2020 WHEN (Year = 2021) THEN no 2021 END|\n",
      "+----+-------------------------------------------------------------------------+\n",
      "|2018|                                                                     null|\n",
      "|2015|                                                                     null|\n",
      "|2013|                                                                     null|\n",
      "|2014|                                                                     null|\n",
      "|2019|                                                                     null|\n",
      "|2016|                                                                     null|\n",
      "|2017|                                                                     null|\n",
      "|2020|                                                                 yes 2020|\n",
      "+----+-------------------------------------------------------------------------+\n",
      "\n"
     ]
    }
   ],
   "source": [
    "dfcsv.select(\"Year\", when(dfcsv.Year == \"2020\",\"yes 2020\")\n",
    "                        .when(dfcsv.Year == \"2017\",\"no 2027\")).distinct().show()"
   ]
  },
  {
   "cell_type": "code",
   "execution_count": null,
   "id": "c354aea2",
   "metadata": {},
   "outputs": [],
   "source": []
  }
 ],
 "metadata": {
  "kernelspec": {
   "display_name": "Python 3 (ipykernel)",
   "language": "python",
   "name": "python3"
  },
  "language_info": {
   "codemirror_mode": {
    "name": "ipython",
    "version": 3
   },
   "file_extension": ".py",
   "mimetype": "text/x-python",
   "name": "python",
   "nbconvert_exporter": "python",
   "pygments_lexer": "ipython3",
   "version": "3.10.5"
  }
 },
 "nbformat": 4,
 "nbformat_minor": 5
}
